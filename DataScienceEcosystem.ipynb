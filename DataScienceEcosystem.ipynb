{
 "cells": [
  {
   "cell_type": "markdown",
   "id": "5da3a014-16ee-451f-9efd-e57b85fab44f",
   "metadata": {},
   "source": [
    "<h1 style=\"color: #EAEAEA; font-size: 30px; font-weight: bold; text-align: center;\"> Data Science Tools and Ecosystem</h1>"
   ]
  },
  {
   "cell_type": "markdown",
   "id": "33e4448e-2c14-4315-8e86-9c758a461781",
   "metadata": {},
   "source": [
    "In this notebook, Data Science Tools and Ecosystem are summarized. "
   ]
  },
  {
   "cell_type": "markdown",
   "id": "c27c57e9-92da-433e-9b79-078d94a73546",
   "metadata": {},
   "source": [
    "**Objectives:**\n",
    "\n",
    "* List popular languages that Data Scientists use\n",
    "* Name some of the commonly used libraries used by Data Scientists \n",
    "* Name some of the most used Data Science tools\n",
    "* How to run arithmetic operations in a Jupyter Notebook\n",
    "* How to use arithmetic to make operations such as conversion. "
   ]
  },
  {
   "cell_type": "markdown",
   "id": "ae88c484-4d17-4345-bb23-d8f33ceffcf7",
   "metadata": {},
   "source": [
    "Some of the popular languages that Data Scientists use are:\n",
    "\n",
    "1. Python\n",
    "2. R\n",
    "3. SQL\n",
    "4. Java\n",
    "5. Scala\n",
    "6. Sas\n",
    "7. Julia\n",
    "8. MATLAB\n",
    "9. Tableau\n",
    "10. Ruby\n",
    "11. Escala"
   ]
  },
  {
   "cell_type": "markdown",
   "id": "de837a47-2ee0-46df-bc93-6bdaa48b0ec2",
   "metadata": {},
   "source": [
    "Some of the commonly used libraries used by Data Scientists include:\n",
    "\n",
    "1. NumPy\n",
    "2. Pandas\n",
    "3. Matplotlib\n",
    "4. Scikit-learn\n",
    "5. TensorFlow\n",
    "6. Keras\n",
    "7. SciPy\n",
    "8. Plotly\n"
   ]
  },
  {
   "cell_type": "markdown",
   "id": "a6348c30-9bc6-4fcc-b4ee-cb7786049d35",
   "metadata": {},
   "source": [
    "| Data Science Tools   |\n",
    "|----------------------|\n",
    "| Jupyter Notebook     |\n",
    "| RStudio              |\n",
    "| Apache Zeppelin      |\n"
   ]
  },
  {
   "cell_type": "markdown",
   "id": "a41d4fcd-0c58-4622-a907-e513e3ef45ce",
   "metadata": {},
   "source": [
    "<h3 style=\"color: #FF2E63; font-size: 20px; font-weight: bold\">Below are a few examples of evaluating arithmetic expressions in Python</h3>"
   ]
  },
  {
   "cell_type": "code",
   "execution_count": 1,
   "id": "3723bda8-1000-440d-9593-e51e47a3d236",
   "metadata": {
    "tags": []
   },
   "outputs": [
    {
     "data": {
      "text/plain": [
       "17"
      ]
     },
     "execution_count": 1,
     "metadata": {},
     "output_type": "execute_result"
    }
   ],
   "source": [
    "(3*4)+5\n",
    "# This is a simple arithmetic expression to multiply then add integers.  "
   ]
  },
  {
   "cell_type": "markdown",
   "id": "6b99f739-4426-4a25-8d73-38662c32d449",
   "metadata": {},
   "source": [
    "This will convert 200 minutes to hours by dividing by 60."
   ]
  },
  {
   "cell_type": "code",
   "execution_count": 3,
   "id": "81058ee1-e8de-4ee6-82cd-25c39f90f658",
   "metadata": {
    "tags": []
   },
   "outputs": [
    {
     "data": {
      "text/plain": [
       "3.3333333333333335"
      ]
     },
     "execution_count": 3,
     "metadata": {},
     "output_type": "execute_result"
    }
   ],
   "source": [
    "200/60\n"
   ]
  },
  {
   "cell_type": "markdown",
   "id": "5adde5c3-ba35-433b-b895-9cbdbf62876a",
   "metadata": {},
   "source": [
    "<h2 style=\"color: #0078F5; font-size: 20px; font-weight: bold\">Author</h2>"
   ]
  },
  {
   "cell_type": "markdown",
   "id": "89c8784c-b5e8-4e0b-9518-6045b284cd63",
   "metadata": {},
   "source": [
    "Jordy Alejandro Ubaldo Morales"
   ]
  }
 ],
 "metadata": {
  "kernelspec": {
   "display_name": "Python 3 (ipykernel)",
   "language": "python",
   "name": "python3"
  },
  "language_info": {
   "codemirror_mode": {
    "name": "ipython",
    "version": 3
   },
   "file_extension": ".py",
   "mimetype": "text/x-python",
   "name": "python",
   "nbconvert_exporter": "python",
   "pygments_lexer": "ipython3",
   "version": "3.11.5"
  }
 },
 "nbformat": 4,
 "nbformat_minor": 5
}
