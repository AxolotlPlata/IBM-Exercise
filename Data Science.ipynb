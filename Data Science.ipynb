{
    "cells": [
        {
            "cell_type": "markdown",
            "metadata": {},
            "source": "<h1 style=\"color: #EAEAEA; font-size: 30px; font-weight: bold; text-align: center;\"> This is a test file</h1>"
        },
        {
            "cell_type": "markdown",
            "metadata": {},
            "source": "<h2 style=\"color: #FF2E63; font-size: 20px; font-weight: bold\">Just to make sure everything is working fine</h2>"
        },
        {
            "cell_type": "markdown",
            "metadata": {},
            "source": "And if so, this should be published directly into **GitHub**"
        }
    ],
    "metadata": {
        "kernelspec": {
            "display_name": "Python 3.10 with Spark",
            "language": "python3",
            "name": "python310"
        },
        "language_info": {
            "codemirror_mode": {
                "name": "ipython",
                "version": 3
            },
            "file_extension": ".py",
            "mimetype": "text/x-python",
            "name": "python",
            "nbconvert_exporter": "python",
            "pygments_lexer": "ipython3",
            "version": "3.10.13"
        }
    },
    "nbformat": 4,
    "nbformat_minor": 1
}